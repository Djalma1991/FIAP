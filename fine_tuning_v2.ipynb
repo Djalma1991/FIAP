{
 "cells": [
  {
   "cell_type": "code",
   "execution_count": null,
   "metadata": {},
   "outputs": [],
   "source": [
    "from datasets import load_dataset\n",
    "\n",
    "data_files = {'train': 'trn.json', 'test': 'tst.json'}\n",
    "# Load the dataset\n",
    "dataset = load_dataset('json', data_files=data_files)\n",
    "\n",
    "# Sample 100 rows from the training split (or modify for other splits)\n",
    "train_sample = dataset[\"train\"].shuffle(seed=42).select(range(240000))\n",
    "test_sample = dataset[\"test\"].shuffle(seed=42).select(range(24000))\n",
    "\n",
    "train_sample, test_sample"
   ]
  },
  {
   "cell_type": "code",
   "execution_count": null,
   "metadata": {},
   "outputs": [],
   "source": [
    "# Convert JSON into T5-friendly format\n",
    "def format_prompt(example):\n",
    "    return {\n",
    "        \"input_text\": f\"Product: {example['title']} Description: {example['content']}\",\n",
    "        \"target_text\": example['title']\n",
    "    }\n",
    "\n",
    "train_sample = train_sample.map(format_prompt)\n",
    "test_sample = test_sample.map(format_prompt)"
   ]
  },
  {
   "cell_type": "code",
   "execution_count": null,
   "metadata": {},
   "outputs": [],
   "source": [
    "tokenized_dataset_train = train_sample\n",
    "tokenized_dataset_test = test_sample\n",
    "tokenized_dataset_train = tokenized_dataset_train.remove_columns(['uid', 'title', 'content'])\n",
    "tokenized_dataset_test = tokenized_dataset_test.remove_columns(['uid', 'title', 'content'])\n",
    "tokenized_dataset_train"
   ]
  },
  {
   "cell_type": "code",
   "execution_count": null,
   "metadata": {},
   "outputs": [],
   "source": [
    "import torch"
   ]
  },
  {
   "cell_type": "code",
   "execution_count": null,
   "metadata": {},
   "outputs": [],
   "source": [
    "from transformers import AutoModelForSeq2SeqLM, AutoTokenizer\n",
    "\n",
    "model_name = \"google/t5-efficient-tiny\"\n",
    "model = AutoModelForSeq2SeqLM.from_pretrained(model_name)\n",
    "# create tokenizer\n",
    "tokenizer = AutoTokenizer.from_pretrained(model_name)"
   ]
  },
  {
   "cell_type": "code",
   "execution_count": null,
   "metadata": {},
   "outputs": [],
   "source": [
    "from peft import LoraConfig, get_peft_model\n",
    "\n",
    "lora_config = LoraConfig(\n",
    "    task_type=\"SEQ_CLS\",\n",
    "    r=8,\n",
    "    lora_alpha=16,\n",
    "    lora_dropout=0.1,\n",
    "    bias=\"none\"\n",
    ")\n",
    "\n",
    "model = get_peft_model(model, lora_config)\n",
    "model.print_trainable_parameters()\n",
    "\n"
   ]
  },
  {
   "cell_type": "code",
   "execution_count": null,
   "metadata": {},
   "outputs": [],
   "source": [
    "def tokenize_function(example):\n",
    "    encoding = tokenizer(\n",
    "        example[\"input_text\"], padding=\"max_length\", truncation=True, max_length=128\n",
    "    )\n",
    "    target_encoding = tokenizer(\n",
    "        example[\"target_text\"], padding=\"max_length\", truncation=True, max_length=16\n",
    "    )\n",
    "\n",
    "    return {\n",
    "        \"input_ids\": encoding[\"input_ids\"],\n",
    "        \"attention_mask\": encoding[\"attention_mask\"],\n",
    "        \"labels\": target_encoding[\"input_ids\"],\n",
    "    }\n",
    "\n",
    "tokenized_dataset_train = tokenized_dataset_train.map(tokenize_function, batched=True)\n",
    "tokenized_dataset_test = tokenized_dataset_test.map(tokenize_function, batched=True)\n",
    "tokenized_dataset_train.set_format(\"torch\")\n",
    "tokenized_dataset_test.set_format(\"torch\")"
   ]
  },
  {
   "cell_type": "code",
   "execution_count": null,
   "metadata": {},
   "outputs": [],
   "source": [
    "from transformers import TrainingArguments, Trainer\n",
    "\n",
    "training_args = TrainingArguments(\n",
    "    output_dir=\"./t5-small-finetuned\",\n",
    "    per_device_train_batch_size=4,  # Adjust based on RAM\n",
    "    per_device_eval_batch_size=4,\n",
    "    gradient_accumulation_steps=4,\n",
    "    eval_strategy=\"steps\",\n",
    "    save_strategy=\"steps\",\n",
    "    save_steps=500,\n",
    "    logging_steps=400,\n",
    "    num_train_epochs=3,\n",
    "    learning_rate=2e-5,\n",
    "    weight_decay=0.01,\n",
    "    fp16=False,  # Apple MPS does not support FP16\n",
    "    push_to_hub=False\n",
    ")\n",
    "\n",
    "trainer = Trainer(\n",
    "    model=model,\n",
    "    args=training_args,\n",
    "    train_dataset=tokenized_dataset_train,\n",
    "    eval_dataset=tokenized_dataset_test,\n",
    "    processing_class=tokenizer\n",
    ")\n",
    "\n",
    "trainer.train()\n"
   ]
  },
  {
   "cell_type": "code",
   "execution_count": null,
   "metadata": {},
   "outputs": [],
   "source": [
    "model.save_pretrained(\"./t5-finetuned\")\n",
    "tokenizer.save_pretrained(\"./t5-finetuned\")"
   ]
  },
  {
   "cell_type": "code",
   "execution_count": null,
   "metadata": {},
   "outputs": [],
   "source": [
    "from transformers import pipeline\n",
    "\n",
    "text_generator = pipeline(\"text-generation\", model=\"./t5-finetuned\", tokenizer=tokenizer)\n",
    "prompt = \"Product: Headphones\\nDescription:\"\n",
    "output = text_generator(prompt, max_length=50)\n",
    "print(output)"
   ]
  }
 ],
 "metadata": {
  "kernelspec": {
   "display_name": ".venv",
   "language": "python",
   "name": "python3"
  },
  "language_info": {
   "codemirror_mode": {
    "name": "ipython",
    "version": 3
   },
   "file_extension": ".py",
   "mimetype": "text/x-python",
   "name": "python",
   "nbconvert_exporter": "python",
   "pygments_lexer": "ipython3",
   "version": "3.12.9"
  }
 },
 "nbformat": 4,
 "nbformat_minor": 2
}
