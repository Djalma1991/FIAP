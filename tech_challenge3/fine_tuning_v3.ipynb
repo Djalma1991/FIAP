{
 "cells": [
  {
   "cell_type": "code",
   "execution_count": null,
   "metadata": {},
   "outputs": [],
   "source": [
    "from datasets import DatasetDict, Dataset\n",
    "\n",
    "from transformers import (\n",
    "    AutoTokenizer,\n",
    "    AutoModelForSeq2SeqLM,\n",
    "    DataCollatorWithPadding,\n",
    "    TrainingArguments,\n",
    "    Trainer)\n",
    "\n",
    "from peft import get_peft_model, LoraConfig\n",
    "from huggingface_hub import login\n",
    "import torch\n",
    "import numpy as np\n",
    "import pandas as pd\n",
    "import os\n",
    "from dotenv import load_dotenv"
   ]
  },
  {
   "cell_type": "code",
   "execution_count": null,
   "metadata": {},
   "outputs": [],
   "source": [
    "# Faz login automaticamente no Hugging Face\n",
    "load_dotenv()\n",
    "token = os.getenv(\"HF_TOKEN\")\n",
    "login(token=token)"
   ]
  },
  {
   "cell_type": "code",
   "execution_count": null,
   "metadata": {},
   "outputs": [],
   "source": [
    "from datasets import load_dataset\n",
    "\n",
    "data_files = {'train': 'trn.json', 'test': 'tst.json'}\n",
    "# Load the dataset\n",
    "dataset = load_dataset('json', data_files=data_files)\n",
    "\n",
    "# Sample 100 rows from the training split (or modify for other splits)\n",
    "train_sample = dataset[\"train\"].shuffle(seed=42).select(range(10000))\n",
    "test_sample = dataset[\"test\"].shuffle(seed=42).select(range(1000))\n",
    "\n",
    "train_sample, test_sample"
   ]
  },
  {
   "cell_type": "code",
   "execution_count": null,
   "metadata": {},
   "outputs": [],
   "source": [
    "from transformers import AutoModelForSeq2SeqLM, AutoTokenizer\n",
    "\n",
    "model_name = \"google/t5-efficient-tiny\"\n",
    "model = AutoModelForSeq2SeqLM.from_pretrained(model_name)\n",
    "# create tokenizer\n",
    "tokenizer = AutoTokenizer.from_pretrained(model_name)"
   ]
  },
  {
   "cell_type": "code",
   "execution_count": null,
   "metadata": {},
   "outputs": [],
   "source": [
    "# create tokenize function\n",
    "def tokenize_function(examples):\n",
    "    model_inputs = tokenizer(examples[\"title\"], \n",
    "                             max_length=512, \n",
    "                             truncation=True, \n",
    "                             padding=True)\n",
    "\n",
    "\n",
    "    labels = tokenizer(examples[\"content\"], \n",
    "                       max_length=512, \n",
    "                       truncation=True, \n",
    "                       padding=True)\n",
    "    model_inputs[\"labels\"] = labels[\"input_ids\"]\n",
    "\n",
    "    return model_inputs"
   ]
  },
  {
   "cell_type": "code",
   "execution_count": null,
   "metadata": {},
   "outputs": [],
   "source": [
    "# tokenize training and validation datasets\n",
    "tokenized_dataset_train_sample = train_sample.map(tokenize_function, batched=True)\n",
    "tokenized_dataset_test_sample = test_sample.map(tokenize_function, batched=True)\n",
    "tokenized_dataset_train_sample"
   ]
  },
  {
   "cell_type": "code",
   "execution_count": null,
   "metadata": {},
   "outputs": [],
   "source": [
    "tokenized_dataset_train = train_sample\n",
    "tokenized_dataset_test = test_sample\n",
    "tokenized_dataset_train_sample = tokenized_dataset_train_sample.remove_columns(['uid', 'title', 'content'])\n",
    "tokenized_dataset_test_sample = tokenized_dataset_test_sample.remove_columns(['uid', 'title', 'content'])\n",
    "tokenized_dataset_train"
   ]
  },
  {
   "cell_type": "code",
   "execution_count": null,
   "metadata": {},
   "outputs": [],
   "source": [
    "from peft import LoraConfig, get_peft_model\n",
    "\n",
    "lora_config = LoraConfig(\n",
    "    task_type=\"SEQ_CLS\",\n",
    "    r=8,\n",
    "    lora_alpha=16,\n",
    "    lora_dropout=0.1,\n",
    "    bias=\"none\"\n",
    ")\n",
    "\n",
    "model = get_peft_model(model, lora_config)\n",
    "model.print_trainable_parameters()"
   ]
  },
  {
   "cell_type": "code",
   "execution_count": null,
   "metadata": {},
   "outputs": [],
   "source": [
    "from transformers import TrainingArguments, Trainer\n",
    "\n",
    "training_args = TrainingArguments(\n",
    "    output_dir=\"./t5-small-finetuned\",\n",
    "    per_device_train_batch_size=4,  # Adjust based on RAM\n",
    "    per_device_eval_batch_size=4,\n",
    "    gradient_accumulation_steps=4,\n",
    "    eval_strategy=\"steps\",\n",
    "    save_strategy=\"steps\",\n",
    "    save_steps=500,\n",
    "    logging_steps=400,\n",
    "    num_train_epochs=3,\n",
    "    learning_rate=2e-5,\n",
    "    weight_decay=0.01,\n",
    "    fp16=False,  # Apple MPS does not support FP16\n",
    "    push_to_hub=False,\n",
    "    use_mps_device=True\n",
    ")\n",
    "\n",
    "trainer = Trainer(\n",
    "    model=model,\n",
    "    args=training_args,\n",
    "    train_dataset=tokenized_dataset_train_sample,\n",
    "    eval_dataset=tokenized_dataset_test_sample,\n",
    "    processing_class=tokenizer\n",
    ")\n",
    "\n",
    "trainer.train()\n"
   ]
  },
  {
   "cell_type": "code",
   "execution_count": null,
   "metadata": {},
   "outputs": [],
   "source": [
    "model.save_pretrained(\"./t5-finetuned_v2\")\n",
    "tokenizer.save_pretrained(\"./t5-finetuned_v2\")"
   ]
  },
  {
   "cell_type": "code",
   "execution_count": null,
   "metadata": {},
   "outputs": [],
   "source": [
    "def predict_description(model, tokenizer, title, max_length=512):\n",
    "    # Tokenizar o título\n",
    "    inputs = tokenizer(title, return_tensors=\"pt\", truncation=True, max_length=max_length)\n",
    "\n",
    "    # Mover para o mesmo dispositivo do modelo\n",
    "    device = torch.device(\"mps\" if torch.backends.mps.is_available() else \"cpu\")\n",
    "    model.to(device)\n",
    "    inputs = {k: v.to(device) for k, v in inputs.items()}\n",
    "\n",
    "    # Gerar a descrição usando o modelo\n",
    "    with torch.no_grad():\n",
    "        output_tokens = model.generate(**inputs, max_length=max_length)\n",
    "\n",
    "    # Decodificar a saída para obter a descrição em texto\n",
    "    description = tokenizer.decode(output_tokens[0], skip_special_tokens=True)\n",
    "\n",
    "    return description\n",
    "\n",
    "# Exemplo de uso\n",
    "title = \"Girls Ballet Tutu Neon Pink\"\n",
    "description = predict_description(model, tokenizer, title)\n",
    "\n",
    "print(\"Título:\", title)\n",
    "print(\"Descrição prevista:\", description)\n"
   ]
  }
 ],
 "metadata": {
  "kernelspec": {
   "display_name": ".venv",
   "language": "python",
   "name": "python3"
  },
  "language_info": {
   "codemirror_mode": {
    "name": "ipython",
    "version": 3
   },
   "file_extension": ".py",
   "mimetype": "text/x-python",
   "name": "python",
   "nbconvert_exporter": "python",
   "pygments_lexer": "ipython3",
   "version": "3.12.9"
  }
 },
 "nbformat": 4,
 "nbformat_minor": 2
}
